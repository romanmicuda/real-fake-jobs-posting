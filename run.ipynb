{
 "cells": [
  {
   "cell_type": "markdown",
   "id": "fc08367b",
   "metadata": {},
   "source": [
    "# EDA"
   ]
  },
  {
   "cell_type": "code",
   "execution_count": 1,
   "id": "a2bbd8d5",
   "metadata": {},
   "outputs": [],
   "source": [
    "import pandas as pd\n",
    "import matplotlib.pyplot as plt\n",
    "import seaborn as sns\n",
    "from collections import Counter\n",
    "import nltk\n",
    "from nltk.corpus import stopwords\n",
    "from nltk.tokenize import word_tokenize\n",
    "import joblib"
   ]
  },
  {
   "cell_type": "code",
   "execution_count": 2,
   "id": "f8966d25",
   "metadata": {},
   "outputs": [
    {
     "name": "stderr",
     "output_type": "stream",
     "text": [
      "[nltk_data] Downloading package punkt to\n",
      "[nltk_data]     /Users/pressburglabs/nltk_data...\n",
      "[nltk_data]   Package punkt is already up-to-date!\n",
      "[nltk_data] Downloading package stopwords to\n",
      "[nltk_data]     /Users/pressburglabs/nltk_data...\n",
      "[nltk_data]   Package stopwords is already up-to-date!\n",
      "[nltk_data] Downloading package punkt_tab to\n",
      "[nltk_data]     /Users/pressburglabs/nltk_data...\n",
      "[nltk_data]   Package punkt_tab is already up-to-date!\n"
     ]
    },
    {
     "data": {
      "text/plain": [
       "True"
      ]
     },
     "execution_count": 2,
     "metadata": {},
     "output_type": "execute_result"
    }
   ],
   "source": [
    "nltk.download('punkt')\n",
    "nltk.download('stopwords')\n",
    "nltk.download('punkt_tab')"
   ]
  },
  {
   "cell_type": "code",
   "execution_count": 3,
   "id": "e670fa5a",
   "metadata": {},
   "outputs": [],
   "source": [
    "df = pd.read_csv('fake_job_postings.csv')\n",
    "df = df.convert_dtypes()"
   ]
  },
  {
   "cell_type": "code",
   "execution_count": 4,
   "id": "60701591",
   "metadata": {},
   "outputs": [
    {
     "name": "stdout",
     "output_type": "stream",
     "text": [
      "Class Distribution:\n",
      "fraudulent\n",
      "0    0.951566\n",
      "1    0.048434\n",
      "Name: proportion, dtype: Float64\n"
     ]
    }
   ],
   "source": [
    "print(\"Class Distribution:\")\n",
    "print(df['fraudulent'].value_counts(normalize=True))"
   ]
  },
  {
   "cell_type": "code",
   "execution_count": 5,
   "id": "baab96e0",
   "metadata": {},
   "outputs": [
    {
     "data": {
      "image/png": "[encoded data removed]",
      "text/plain": [
       "<Figure size 640x480 with 1 Axes>"
      ]
     },
     "metadata": {},
     "output_type": "display_data"
    }
   ],
   "source": [
    "sns.countplot(x='fraudulent', data=df)\n",
    "plt.title('Class Distribution (Real vs. Fake)')\n",
    "plt.show()"
   ]
  },
  {
   "cell_type": "code",
   "execution_count": 6,
   "id": "a409ca6c",
   "metadata": {},
   "outputs": [
    {
     "name": "stdout",
     "output_type": "stream",
     "text": [
      "\n",
      "Missing Values:\n",
      "job_id                     0\n",
      "title                      0\n",
      "location                 346\n",
      "department             11547\n",
      "salary_range           15012\n",
      "company_profile         3308\n",
      "description                1\n",
      "requirements            2696\n",
      "benefits                7212\n",
      "telecommuting              0\n",
      "has_company_logo           0\n",
      "has_questions              0\n",
      "employment_type         3471\n",
      "required_experience     7050\n",
      "required_education      8105\n",
      "industry                4903\n",
      "function                6455\n",
      "fraudulent                 0\n",
      "dtype: int64\n"
     ]
    }
   ],
   "source": [
    "print(\"\\nMissing Values:\")\n",
    "print(df.isnull().sum())"
   ]
  },
  {
   "cell_type": "code",
   "execution_count": 7,
   "id": "0986e84d",
   "metadata": {},
   "outputs": [
    {
     "name": "stdout",
     "output_type": "stream",
     "text": [
      "\n",
      "Fraudulent vs. Meta-Features:\n",
      "\n",
      "telecommuting:\n",
      "fraudulent            0         1\n",
      "telecommuting                    \n",
      "0              0.953135  0.046865\n",
      "1              0.916558  0.083442\n",
      "\n",
      "has_company_logo:\n",
      "fraudulent               0         1\n",
      "has_company_logo                    \n",
      "0                 0.840710  0.159290\n",
      "1                 0.980098  0.019902\n",
      "\n",
      "has_questions:\n",
      "fraudulent            0         1\n",
      "has_questions                    \n",
      "0              0.932218  0.067782\n",
      "1              0.971565  0.028435\n"
     ]
    }
   ],
   "source": [
    "print(\"\\nFraudulent vs. Meta-Features:\")\n",
    "for col in ['telecommuting', 'has_company_logo', 'has_questions']:\n",
    "    print(f\"\\n{col}:\")\n",
    "    print(pd.crosstab(df[col], df['fraudulent'], normalize='index'))"
   ]
  },
  {
   "cell_type": "code",
   "execution_count": 8,
   "id": "ed4f7783",
   "metadata": {},
   "outputs": [],
   "source": [
    "stop_words = set(stopwords.words('english'))\n",
    "def get_top_words(text_series, n=10):\n",
    "    words = []\n",
    "    for text in text_series.dropna():\n",
    "        tokens = word_tokenize(text.lower())\n",
    "        words.extend([word for word in tokens if word.isalpha() and word not in stop_words])\n",
    "    return Counter(words).most_common(n)"
   ]
  },
  {
   "cell_type": "code",
   "execution_count": 9,
   "id": "1278ef15",
   "metadata": {},
   "outputs": [
    {
     "name": "stdout",
     "output_type": "stream",
     "text": [
      "\n",
      "Top Words in Fraudulent Descriptions:\n",
      "[('work', 962), ('amp', 695), ('team', 477), ('company', 477), ('position', 470), ('experience', 464), ('project', 438), ('customer', 438), ('business', 436), ('management', 429)]\n",
      "\n",
      "Top Words in Real Descriptions:\n",
      "[('team', 17162), ('work', 13409), ('business', 10038), ('new', 9384), ('experience', 9184), ('company', 9170), ('customer', 9132), ('sales', 8837), ('looking', 8307), ('development', 7705)]\n"
     ]
    }
   ],
   "source": [
    "print(\"\\nTop Words in Fraudulent Descriptions:\")\n",
    "print(get_top_words(df[df['fraudulent'] == 1]['description'], 10))\n",
    "print(\"\\nTop Words in Real Descriptions:\")\n",
    "print(get_top_words(df[df['fraudulent'] == 0]['description'], 10))"
   ]
  },
  {
   "cell_type": "markdown",
   "id": "94ed7659",
   "metadata": {},
   "source": [
    "# Preprocessing"
   ]
  },
  {
   "cell_type": "code",
   "execution_count": 10,
   "id": "3ad617cb",
   "metadata": {},
   "outputs": [],
   "source": [
    "from sklearn.model_selection import train_test_split\n",
    "from sklearn.preprocessing import LabelEncoder\n",
    "from sklearn.feature_extraction.text import TfidfVectorizer\n",
    "from imblearn.over_sampling import SMOTE\n",
    "import numpy as np"
   ]
  },
  {
   "cell_type": "code",
   "execution_count": 11,
   "id": "b1af62d2",
   "metadata": {},
   "outputs": [],
   "source": [
    "text_cols = ['title', 'company_profile', 'description', 'requirements', 'benefits']\n",
    "for col in text_cols:\n",
    "    df[col] = df[col].fillna('')"
   ]
  },
  {
   "cell_type": "code",
   "execution_count": 12,
   "id": "9ffb0b86",
   "metadata": {},
   "outputs": [],
   "source": [
    "df['combined_text'] = df[text_cols].agg(' '.join, axis=1)"
   ]
  },
  {
   "cell_type": "code",
   "execution_count": 13,
   "id": "23c942d6",
   "metadata": {},
   "outputs": [],
   "source": [
    "cat_cols = ['employment_type', 'required_experience', 'required_education', 'industry', 'function']\n",
    "label_encoders = {}\n",
    "for col in cat_cols:\n",
    "    le = LabelEncoder()\n",
    "    df[col] = df[col].fillna('Unknown')\n",
    "    df[col] = le.fit_transform(df[col])\n",
    "    label_encoders[col] = le\n",
    "    joblib.dump(le, f'label_encoder_{col}.pkl')"
   ]
  },
  {
   "cell_type": "code",
   "execution_count": 14,
   "id": "2eea6715",
   "metadata": {},
   "outputs": [],
   "source": [
    "meta_features = ['telecommuting', 'has_company_logo', 'has_questions'] + cat_cols"
   ]
  },
  {
   "cell_type": "code",
   "execution_count": 15,
   "id": "5109ea10",
   "metadata": {},
   "outputs": [],
   "source": [
    "tfidf = TfidfVectorizer(max_features=5000, stop_words='english')\n",
    "X_text = tfidf.fit_transform(df['combined_text'])"
   ]
  },
  {
   "cell_type": "code",
   "execution_count": 16,
   "id": "91184d94",
   "metadata": {},
   "outputs": [
    {
     "data": {
      "text/plain": [
       "['tfidf_vectorizer.pkl']"
      ]
     },
     "execution_count": 16,
     "metadata": {},
     "output_type": "execute_result"
    }
   ],
   "source": [
    "joblib.dump(tfidf, 'tfidf_vectorizer.pkl')"
   ]
  },
  {
   "cell_type": "code",
   "execution_count": 17,
   "id": "941a80f9",
   "metadata": {},
   "outputs": [],
   "source": [
    "X_meta = df[meta_features].values\n",
    "X = np.hstack((X_text.toarray(), X_meta))"
   ]
  },
  {
   "cell_type": "code",
   "execution_count": 18,
   "id": "2ed58c58",
   "metadata": {},
   "outputs": [],
   "source": [
    "y = df['fraudulent'].values"
   ]
  },
  {
   "cell_type": "code",
   "execution_count": 19,
   "id": "98ae45fc",
   "metadata": {},
   "outputs": [],
   "source": [
    "X_train, X_test, y_train, y_test = train_test_split(X, y, test_size=0.2, random_state=42, stratify=y)"
   ]
  },
  {
   "cell_type": "code",
   "execution_count": 20,
   "id": "fdd0d6e7",
   "metadata": {},
   "outputs": [],
   "source": [
    "smote = SMOTE(random_state=42)\n",
    "X_train_res, y_train_res = smote.fit_resample(X_train, y_train)"
   ]
  },
  {
   "cell_type": "code",
   "execution_count": 21,
   "id": "b2320f23",
   "metadata": {},
   "outputs": [
    {
     "name": "stdout",
     "output_type": "stream",
     "text": [
      "Original Train Class Distribution: Counter({0: 13611, 1: 693})\n",
      "Resampled Train Class Distribution: Counter({0.0: 13611, 1.0: 13611})\n"
     ]
    }
   ],
   "source": [
    "print(\"Original Train Class Distribution:\", Counter(y_train))\n",
    "print(\"Resampled Train Class Distribution:\", Counter(y_train_res))"
   ]
  },
  {
   "cell_type": "markdown",
   "id": "f150a3e9",
   "metadata": {},
   "source": [
    "# Train SVM Models"
   ]
  },
  {
   "cell_type": "code",
   "execution_count": 22,
   "id": "c7689dfe",
   "metadata": {},
   "outputs": [],
   "source": [
    "from sklearn.svm import SVC, LinearSVC, NuSVC\n",
    "from sklearn.metrics import classification_report, confusion_matrix\n",
    "import time"
   ]
  },
  {
   "cell_type": "code",
   "execution_count": 23,
   "id": "fb37776e",
   "metadata": {},
   "outputs": [],
   "source": [
    "models = {\n",
    "    'SVC_linear': SVC(kernel='linear', random_state=42),\n",
    "    'LinearSVC': LinearSVC(random_state=42),\n",
    "}"
   ]
  },
  {
   "cell_type": "code",
   "execution_count": 24,
   "id": "533c0232",
   "metadata": {},
   "outputs": [
    {
     "name": "stdout",
     "output_type": "stream",
     "text": [
      "\n",
      "Training SVC_linear...\n",
      "\n",
      "SVC_linear Results:\n",
      "Training Time: 818.08 seconds\n",
      "\n",
      "Classification Report:\n",
      "              precision    recall  f1-score   support\n",
      "\n",
      "         0.0       0.99      0.99      0.99      3403\n",
      "         1.0       0.85      0.86      0.85       173\n",
      "\n",
      "    accuracy                           0.99      3576\n",
      "   macro avg       0.92      0.92      0.92      3576\n",
      "weighted avg       0.99      0.99      0.99      3576\n",
      "\n",
      "\n",
      "Confusion Matrix:\n",
      "[[3376   27]\n",
      " [  25  148]]\n",
      "\n",
      "Training LinearSVC...\n",
      "\n",
      "LinearSVC Results:\n",
      "Training Time: 5.43 seconds\n",
      "\n",
      "Classification Report:\n",
      "              precision    recall  f1-score   support\n",
      "\n",
      "         0.0       0.99      0.99      0.99      3403\n",
      "         1.0       0.82      0.84      0.83       173\n",
      "\n",
      "    accuracy                           0.98      3576\n",
      "   macro avg       0.91      0.92      0.91      3576\n",
      "weighted avg       0.98      0.98      0.98      3576\n",
      "\n",
      "\n",
      "Confusion Matrix:\n",
      "[[3371   32]\n",
      " [  27  146]]\n"
     ]
    }
   ],
   "source": [
    "import joblib\n",
    "\n",
    "for name, model in models.items():\n",
    "    print(f\"\\nTraining {name}...\")\n",
    "    start_time = time.time()\n",
    "    \n",
    "    model.fit(X_train_res, y_train_res)\n",
    "    joblib.dump(model, name + '.pkl')\n",
    "    y_pred = model.predict(X_test)\n",
    "\n",
    "    print(f\"\\n{name} Results:\")\n",
    "    print(f\"Training Time: {time.time() - start_time:.2f} seconds\")\n",
    "    print(\"\\nClassification Report:\")\n",
    "    print(classification_report(y_test, y_pred))\n",
    "    print(\"\\nConfusion Matrix:\")\n",
    "    print(confusion_matrix(y_test, y_pred))"
   ]
  }
 ],
 "metadata": {
  "kernelspec": {
   "display_name": "base",
   "language": "python",
   "name": "python3"
  },
  "language_info": {
   "codemirror_mode": {
    "name": "ipython",
    "version": 3
   },
   "file_extension": ".py",
   "mimetype": "text/x-python",
   "name": "python",
   "nbconvert_exporter": "python",
   "pygments_lexer": "ipython3",
   "version": "3.12.7"
  }
 },
 "nbformat": 4,
 "nbformat_minor": 5
}
